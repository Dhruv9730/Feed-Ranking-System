{
 "cells": [
  {
   "cell_type": "code",
   "execution_count": 4,
   "id": "4e0bf667-7b55-4877-8c02-18abd5aef163",
   "metadata": {},
   "outputs": [
    {
     "name": "stdout",
     "output_type": "stream",
     "text": [
      "Collecting faker\n",
      "  Downloading faker-37.4.0-py3-none-any.whl.metadata (15 kB)\n",
      "Requirement already satisfied: tzdata in c:\\users\\dhruv\\anaconda3\\lib\\site-packages (from faker) (2024.1)\n",
      "Downloading faker-37.4.0-py3-none-any.whl (1.9 MB)\n",
      "   ---------------------------------------- 0.0/1.9 MB ? eta -:--:--\n",
      "    --------------------------------------- 0.0/1.9 MB 1.9 MB/s eta 0:00:01\n",
      "   ----------- ---------------------------- 0.5/1.9 MB 8.6 MB/s eta 0:00:01\n",
      "   ----------------------------- ---------- 1.4/1.9 MB 11.3 MB/s eta 0:00:01\n",
      "   ---------------------------------------- 1.9/1.9 MB 13.7 MB/s eta 0:00:00\n",
      "Installing collected packages: faker\n",
      "Successfully installed faker-37.4.0\n",
      "Note: you may need to restart the kernel to use updated packages.\n"
     ]
    },
    {
     "name": "stderr",
     "output_type": "stream",
     "text": [
      "WARNING: Ignoring invalid distribution -atplotlib (c:\\users\\dhruv\\anaconda3\\lib\\site-packages)\n",
      "WARNING: Ignoring invalid distribution -atplotlib (c:\\users\\dhruv\\anaconda3\\lib\\site-packages)\n"
     ]
    }
   ],
   "source": [
    "pip install faker"
   ]
  },
  {
   "cell_type": "code",
   "execution_count": 14,
   "id": "5cd1a46a-546a-47f1-b1ea-53e324566eb3",
   "metadata": {},
   "outputs": [
    {
     "data": {
      "text/html": [
       "<div>\n",
       "<style scoped>\n",
       "    .dataframe tbody tr th:only-of-type {\n",
       "        vertical-align: middle;\n",
       "    }\n",
       "\n",
       "    .dataframe tbody tr th {\n",
       "        vertical-align: top;\n",
       "    }\n",
       "\n",
       "    .dataframe thead th {\n",
       "        text-align: right;\n",
       "    }\n",
       "</style>\n",
       "<table border=\"1\" class=\"dataframe\">\n",
       "  <thead>\n",
       "    <tr style=\"text-align: right;\">\n",
       "      <th></th>\n",
       "      <th>user</th>\n",
       "      <th>post</th>\n",
       "      <th>likes</th>\n",
       "      <th>comments</th>\n",
       "      <th>timestamp</th>\n",
       "    </tr>\n",
       "  </thead>\n",
       "  <tbody>\n",
       "    <tr>\n",
       "      <th>0</th>\n",
       "      <td>adamburnett</td>\n",
       "      <td>post_21</td>\n",
       "      <td>6</td>\n",
       "      <td>4</td>\n",
       "      <td>2025-06-26 15:47:17.788805</td>\n",
       "    </tr>\n",
       "    <tr>\n",
       "      <th>1</th>\n",
       "      <td>janet84</td>\n",
       "      <td>post_35</td>\n",
       "      <td>32</td>\n",
       "      <td>8</td>\n",
       "      <td>2025-06-26 05:47:17.788805</td>\n",
       "    </tr>\n",
       "    <tr>\n",
       "      <th>2</th>\n",
       "      <td>sandra63</td>\n",
       "      <td>post_34</td>\n",
       "      <td>0</td>\n",
       "      <td>8</td>\n",
       "      <td>2025-06-26 17:47:17.788805</td>\n",
       "    </tr>\n",
       "    <tr>\n",
       "      <th>3</th>\n",
       "      <td>adamburnett</td>\n",
       "      <td>post_44</td>\n",
       "      <td>45</td>\n",
       "      <td>3</td>\n",
       "      <td>2025-06-25 12:47:17.788805</td>\n",
       "    </tr>\n",
       "    <tr>\n",
       "      <th>4</th>\n",
       "      <td>ojohnson</td>\n",
       "      <td>post_46</td>\n",
       "      <td>43</td>\n",
       "      <td>14</td>\n",
       "      <td>2025-06-26 20:47:17.788805</td>\n",
       "    </tr>\n",
       "  </tbody>\n",
       "</table>\n",
       "</div>"
      ],
      "text/plain": [
       "          user     post  likes  comments                  timestamp\n",
       "0  adamburnett  post_21      6         4 2025-06-26 15:47:17.788805\n",
       "1      janet84  post_35     32         8 2025-06-26 05:47:17.788805\n",
       "2     sandra63  post_34      0         8 2025-06-26 17:47:17.788805\n",
       "3  adamburnett  post_44     45         3 2025-06-25 12:47:17.788805\n",
       "4     ojohnson  post_46     43        14 2025-06-26 20:47:17.788805"
      ]
     },
     "execution_count": 14,
     "metadata": {},
     "output_type": "execute_result"
    }
   ],
   "source": [
    "from faker import Faker\n",
    "import random\n",
    "from datetime import datetime, timedelta\n",
    "import pandas as pd\n",
    "\n",
    "faker = Faker()\n",
    "\n",
    "#Simulate users and post\n",
    "users = [faker.user_name() for _ in range(100)]\n",
    "posts = [f\"post_{i}\" for i in range(50)]\n",
    "\n",
    "#Simulate feed interactions\n",
    "feed_data =[]\n",
    "\n",
    "for _ in range(1000): # 1000 total events\n",
    "    entry ={\n",
    "        \"user\": random.choice(users),\n",
    "        \"post\": random.choice(posts),\n",
    "        \"likes\" : random.randint(0,50),\n",
    "        \"comments\": random.randint(0,15),\n",
    "        \"timestamp\":datetime.now() - timedelta(hours =random.randint(0,48)) #last 48 hours\n",
    "    }\n",
    "    feed_data.append(entry)\n",
    "\n",
    "#convert to dataframe for easier analysis\n",
    "df = pd.DataFrame(feed_data)\n",
    "df.head()"
   ]
  },
  {
   "cell_type": "code",
   "execution_count": 79,
   "id": "fc2c6170-0f02-4a34-a1de-2f9f20e584fa",
   "metadata": {},
   "outputs": [],
   "source": [
    "import heapq\n",
    "\n",
    "def rank_posts_with_decay_and_ratio(df, top_n =10):\n",
    "    now =datetime.now()\n",
    "    cutoff = now - timedelta(hours =24)\n",
    "\n",
    "    #Step 1: Filter to last 24 hours\n",
    "    recent_df = df[df[\"timestamp\"] >=cutoff]\n",
    "\n",
    "    #Step 2: Agrregate post scores\n",
    "    post_scores = {}\n",
    "\n",
    "    for _, row in recent_df.iterrows():\n",
    "        post =row[\"post\"]\n",
    "\n",
    "        #Time decay logic\n",
    "        hours_old = (now -row[\"timestamp\"]).total_seconds() /3600\n",
    "        freshness_weight = max(1,24 - hours_old)\n",
    "\n",
    "        #Ratio-based Score\n",
    "        likes =row['likes']\n",
    "        comments =row['comments']\n",
    "        enagement_score =(likes/ (comments+1)) # Avoid division by zero\n",
    "        # Weighted score with freshness\n",
    "        raw_score =row[\"likes\"]*2 +row[\"comments\"]*3\n",
    "        final_score =enagement_score * (freshness_weight/24)\n",
    "        \n",
    "        if post in post_scores:\n",
    "            post_scores[post] += final_score\n",
    "        else:\n",
    "            post_scores[post] = final_score\n",
    "\n",
    "    #Step 3 : Max Heap for top-N\n",
    "    max_heap =[(-score, post) for post, score in post_scores.items()]\n",
    "    heapq.heapify(max_heap)\n",
    "\n",
    "    #Step 4: Extract top-N\n",
    "    top_posts =[]\n",
    "    for _ in range(min(top_n, len(max_heap))):\n",
    "        score , post =heapq.heappop(max_heap)\n",
    "        top_posts.append((post, -score))\n",
    "\n",
    "    return top_posts\n",
    "\n",
    "def personalized_feed(user_id, df,top_n =5):\n",
    "    now =datetime.now()\n",
    "    cutoff =  now - timedelta(hours =24)\n",
    "\n",
    "    #Step 1 : Filter to last 24h and only current user\n",
    "    user_df =df[(df[\"timestamp\"] >= cutoff) & (df['user'] == user_id)]\n",
    "\n",
    "    #Step 2: compute post scores form that user's interactions\n",
    "    post_scores ={}\n",
    "\n",
    "    for _, row in user_df.iterrows():\n",
    "        post = row['post']\n",
    "        hours_old =(now -row['timestamp']).total_seconds() /3600\n",
    "        freshness_weight = max(1, 24-hours_old)\n",
    "\n",
    "        likes = row['likes']\n",
    "        comments = row['comments']\n",
    "        enagement_score =(likes/ (comments +1))\n",
    "        final_score = enagement_score * (freshness_weight /24)\n",
    "\n",
    "        if post in post_scores:\n",
    "            post_scores[post] += final_score\n",
    "        else:\n",
    "            post_scores[post]  = final_score\n",
    "\n",
    "    #Step 3: Heap to get top-N posts\n",
    "    max_heap =[(-score, post) for post, score in post_scores.items()]\n",
    "    heapq.heapify(max_heap)\n",
    "\n",
    "    #Step 4: Extract top-N\n",
    "    top_posts =[]\n",
    "    for _ in range(min(top_n, len(max_heap))):\n",
    "        score , post =heapq.heappop(max_heap)\n",
    "        top_posts.append((post, -score))\n",
    "\n",
    "    return top_posts"
   ]
  },
  {
   "cell_type": "code",
   "execution_count": 81,
   "id": "c4a28a46-0553-4792-ab31-22ca67743ebb",
   "metadata": {},
   "outputs": [
    {
     "name": "stdout",
     "output_type": "stream",
     "text": [
      "post_31 → Score: 1348\n",
      "post_9 → Score: 1201\n",
      "post_28 → Score: 1141\n",
      "post_34 → Score: 1059\n",
      "post_48 → Score: 1055\n"
     ]
    }
   ],
   "source": [
    "top_trending = rank_posts(df, top_n=5)\n",
    "for post, score in top_trending:\n",
    "    print(f\"{post} → Score: {score}\")"
   ]
  },
  {
   "cell_type": "code",
   "execution_count": 83,
   "id": "92898729-23b4-4bbb-8dde-e19f0235cf90",
   "metadata": {},
   "outputs": [
    {
     "name": "stdout",
     "output_type": "stream",
     "text": [
      "post_9 → Score: 676.5562273917014\n",
      "post_31 → Score: 675.5817745134724\n",
      "post_27 → Score: 598.2510529352085\n",
      "post_34 → Score: 586.6593836867708\n",
      "post_21 → Score: 574.7769768530903\n"
     ]
    }
   ],
   "source": [
    "top_decay = rank_posts_with_decay(df, top_n=5)\n",
    "for post, score in top_decay:\n",
    "    print(f\"{post} → Score: {score}\")"
   ]
  },
  {
   "cell_type": "code",
   "execution_count": 85,
   "id": "0f4c9148-27f1-4f77-b2a0-554146457ccb",
   "metadata": {},
   "outputs": [
    {
     "name": "stdout",
     "output_type": "stream",
     "text": [
      "post_44 → Score: 53.73369508713443\n",
      "post_45 → Score: 52.01374250845293\n",
      "post_18 → Score: 47.90948815600835\n",
      "post_40 → Score: 44.37867891847404\n",
      "post_23 → Score: 43.75765054150933\n"
     ]
    }
   ],
   "source": [
    "top_quality_posts = rank_posts_with_decay_and_ratio(df, top_n=5)\n",
    "for post, score in top_quality_posts:\n",
    "    print(f\"{post} → Score: {score}\")"
   ]
  },
  {
   "cell_type": "code",
   "execution_count": 87,
   "id": "1846cca2-b054-4b28-a5d7-a14838b403e8",
   "metadata": {},
   "outputs": [
    {
     "name": "stdout",
     "output_type": "stream",
     "text": [
      "📥 post_5 (for user 'janet84') → Score: 22.953204355324075\n",
      "📥 post_20 (for user 'janet84') → Score: 3.6302979648553237\n",
      "📥 post_28 (for user 'janet84') → Score: 2.1685666264768515\n",
      "📥 post_44 (for user 'janet84') → Score: 1.8771922613194443\n",
      "📥 post_1 (for user 'janet84') → Score: 1.7530691658472224\n"
     ]
    }
   ],
   "source": [
    "personal_feed = personalized_feed(\"janet84\", df, top_n=5)\n",
    "for post, score in personal_feed:\n",
    "    print(f\"📥 {post} (for user 'janet84') → Score: {score}\")"
   ]
  },
  {
   "cell_type": "code",
   "execution_count": null,
   "id": "ca43dcaa-3cd4-4d40-a839-e8d9f3e84d50",
   "metadata": {},
   "outputs": [],
   "source": []
  }
 ],
 "metadata": {
  "kernelspec": {
   "display_name": "Python 3 (ipykernel)",
   "language": "python",
   "name": "python3"
  },
  "language_info": {
   "codemirror_mode": {
    "name": "ipython",
    "version": 3
   },
   "file_extension": ".py",
   "mimetype": "text/x-python",
   "name": "python",
   "nbconvert_exporter": "python",
   "pygments_lexer": "ipython3",
   "version": "3.9.18"
  }
 },
 "nbformat": 4,
 "nbformat_minor": 5
}
